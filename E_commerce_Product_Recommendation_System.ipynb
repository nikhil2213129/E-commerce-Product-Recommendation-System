{
  "nbformat": 4,
  "nbformat_minor": 0,
  "metadata": {
    "colab": {
      "provenance": [],
      "gpuType": "T4"
    },
    "kernelspec": {
      "name": "python3",
      "display_name": "Python 3"
    },
    "language_info": {
      "name": "python"
    },
    "accelerator": "GPU"
  },
  "cells": [
    {
      "cell_type": "code",
      "source": [
        "!pip install scikit-surprise"
      ],
      "metadata": {
        "colab": {
          "base_uri": "https://localhost:8080/"
        },
        "id": "Nkd2D2Es1iTK",
        "outputId": "07e658d5-d990-4f0c-f446-ef29aa4c3878"
      },
      "execution_count": 7,
      "outputs": [
        {
          "output_type": "stream",
          "name": "stdout",
          "text": [
            "Requirement already satisfied: scikit-surprise in /usr/local/lib/python3.10/dist-packages (1.1.4)\n",
            "Requirement already satisfied: joblib>=1.2.0 in /usr/local/lib/python3.10/dist-packages (from scikit-surprise) (1.4.2)\n",
            "Requirement already satisfied: numpy>=1.19.5 in /usr/local/lib/python3.10/dist-packages (from scikit-surprise) (1.26.4)\n",
            "Requirement already satisfied: scipy>=1.6.0 in /usr/local/lib/python3.10/dist-packages (from scikit-surprise) (1.13.1)\n"
          ]
        }
      ]
    },
    {
      "cell_type": "code",
      "source": [
        "import pandas as pd\n",
        "from surprise import Dataset\n",
        "from surprise import Reader\n",
        "from surprise import KNNWithMeans\n",
        "from surprise.model_selection import train_test_split\n",
        "from surprise.model_selection import cross_validate\n",
        "from surprise.model_selection import GridSearchCV"
      ],
      "metadata": {
        "id": "KWVmb5mi1pTw"
      },
      "execution_count": 8,
      "outputs": []
    },
    {
      "cell_type": "code",
      "source": [
        "ratings = pd.read_csv('ecommerce_rating.csv', nrows=1000)"
      ],
      "metadata": {
        "id": "07HCIWcV1r_t"
      },
      "execution_count": 9,
      "outputs": []
    },
    {
      "cell_type": "code",
      "source": [
        "rating_scale = (1, 5)"
      ],
      "metadata": {
        "id": "mF1uJrcW1t62"
      },
      "execution_count": 10,
      "outputs": []
    },
    {
      "cell_type": "code",
      "source": [
        "reader = Reader(rating_scale=rating_scale)"
      ],
      "metadata": {
        "id": "VSg22gGH1w9O"
      },
      "execution_count": 11,
      "outputs": []
    },
    {
      "cell_type": "code",
      "source": [
        "data = Dataset.load_from_df(ratings[['UserId', 'ProductId', 'Rating']], reader)"
      ],
      "metadata": {
        "id": "b3fup4Mt1zO-"
      },
      "execution_count": 12,
      "outputs": []
    },
    {
      "cell_type": "code",
      "source": [
        "trainset, testset = train_test_split(data, test_size=.2)"
      ],
      "metadata": {
        "id": "CNQ7lzAi12yR"
      },
      "execution_count": 13,
      "outputs": []
    },
    {
      "cell_type": "code",
      "source": [
        "sim_options = {'name': 'pearson_baseline', 'user_based': False}\n",
        "algo = KNNWithMeans(k=50, sim_options=sim_options)"
      ],
      "metadata": {
        "id": "JyMfyBrT16MG"
      },
      "execution_count": 14,
      "outputs": []
    },
    {
      "cell_type": "code",
      "source": [
        "results = cross_validate(algo, data, measures=['RMSE', 'MAE'], cv=3, verbose=True)"
      ],
      "metadata": {
        "colab": {
          "base_uri": "https://localhost:8080/"
        },
        "id": "ly7ol8_e18uu",
        "outputId": "b4169fb4-78a3-499c-c228-96c0d0869e94"
      },
      "execution_count": 15,
      "outputs": [
        {
          "output_type": "stream",
          "name": "stdout",
          "text": [
            "Estimating biases using als...\n",
            "Computing the pearson_baseline similarity matrix...\n",
            "Done computing similarity matrix.\n",
            "Estimating biases using als...\n",
            "Computing the pearson_baseline similarity matrix...\n",
            "Done computing similarity matrix.\n",
            "Estimating biases using als...\n",
            "Computing the pearson_baseline similarity matrix...\n",
            "Done computing similarity matrix.\n",
            "Evaluating RMSE, MAE of algorithm KNNWithMeans on 3 split(s).\n",
            "\n",
            "                  Fold 1  Fold 2  Fold 3  Mean    Std     \n",
            "RMSE (testset)    1.4125  1.3991  1.4538  1.4218  0.0233  \n",
            "MAE (testset)     1.1138  1.1442  1.1866  1.1482  0.0298  \n",
            "Fit time          0.02    0.02    0.01    0.01    0.00    \n",
            "Test time         0.01    0.00    0.00    0.00    0.00    \n"
          ]
        }
      ]
    },
    {
      "cell_type": "code",
      "source": [
        "algo.fit(trainset)"
      ],
      "metadata": {
        "colab": {
          "base_uri": "https://localhost:8080/"
        },
        "id": "DndSjghD1-H3",
        "outputId": "e9d26a38-472a-41bc-e562-a255594619f6"
      },
      "execution_count": 17,
      "outputs": [
        {
          "output_type": "stream",
          "name": "stdout",
          "text": [
            "Estimating biases using als...\n",
            "Computing the pearson_baseline similarity matrix...\n",
            "Done computing similarity matrix.\n"
          ]
        },
        {
          "output_type": "execute_result",
          "data": {
            "text/plain": [
              "<surprise.prediction_algorithms.knns.KNNWithMeans at 0x791c33421f90>"
            ]
          },
          "metadata": {},
          "execution_count": 17
        }
      ]
    },
    {
      "cell_type": "code",
      "source": [
        "def get_top_n(user_id, n):\n",
        "    user_ratings = ratings[ratings['UserId'] == user_id]\n",
        "    purchased_products = user_ratings['ProductId'].unique()\n",
        "    top_n = []\n",
        "    for product_id in ratings['ProductId'].unique():\n",
        "        if product_id not in purchased_products:\n",
        "            prediction = algo.predict(user_id, product_id)\n",
        "            top_n.append((product_id, prediction.est))\n",
        "    top_n.sort(key=lambda x: x[1], reverse=True)\n",
        "    return top_n[:n]"
      ],
      "metadata": {
        "id": "9NRAVeVU2QqO"
      },
      "execution_count": 18,
      "outputs": []
    },
    {
      "cell_type": "code",
      "source": [
        "top_10 = get_top_n(1, 10)\n",
        "print(top_10)"
      ],
      "metadata": {
        "colab": {
          "base_uri": "https://localhost:8080/"
        },
        "id": "9NSKyg_z2cza",
        "outputId": "1cd50655-ee33-4a60-a350-029bddf5c558"
      },
      "execution_count": 19,
      "outputs": [
        {
          "output_type": "stream",
          "name": "stdout",
          "text": [
            "[('0205616461', 4.14875), ('0558925278', 4.14875), ('0733001998', 4.14875), ('0737104473', 4.14875), ('0762451459', 4.14875), ('1304139212', 4.14875), ('1304139220', 4.14875), ('130414089X', 4.14875), ('130414643X', 4.14875), ('1304146537', 4.14875)]\n"
          ]
        }
      ]
    },
    {
      "cell_type": "code",
      "source": [
        "param_grid = {'k': [20, 30, 40],\n",
        "              'sim_options': {'name': ['msd', 'cosine'],\n",
        "                              'min_support': [1, 5],\n",
        "                              'user_based': [False]}\n",
        "              }\n",
        "\n",
        "grid_search = GridSearchCV(KNNWithMeans, param_grid, measures=['RMSE', 'MAE'], cv=3)\n",
        "grid_search.fit(data)\n",
        "\n",
        "print(grid_search.best_params)\n",
        "print(grid_search.best_score)"
      ],
      "metadata": {
        "colab": {
          "base_uri": "https://localhost:8080/"
        },
        "id": "P61Gwnu22i2F",
        "outputId": "d5f9e689-8a7d-4146-9d88-1b5a73c64959"
      },
      "execution_count": 26,
      "outputs": [
        {
          "output_type": "stream",
          "name": "stdout",
          "text": [
            "Computing the msd similarity matrix...\n",
            "Done computing similarity matrix.\n",
            "Computing the msd similarity matrix...\n",
            "Done computing similarity matrix.\n",
            "Computing the msd similarity matrix...\n",
            "Done computing similarity matrix.\n",
            "Computing the msd similarity matrix...\n",
            "Done computing similarity matrix.\n",
            "Computing the msd similarity matrix...\n",
            "Done computing similarity matrix.\n",
            "Computing the msd similarity matrix...\n",
            "Done computing similarity matrix.\n",
            "Computing the cosine similarity matrix...\n",
            "Done computing similarity matrix.\n",
            "Computing the cosine similarity matrix...\n",
            "Done computing similarity matrix.\n",
            "Computing the cosine similarity matrix...\n",
            "Done computing similarity matrix.\n",
            "Computing the cosine similarity matrix...\n",
            "Done computing similarity matrix.\n",
            "Computing the cosine similarity matrix...\n",
            "Done computing similarity matrix.\n",
            "Computing the cosine similarity matrix...\n",
            "Done computing similarity matrix.\n",
            "Computing the msd similarity matrix...\n",
            "Done computing similarity matrix.\n",
            "Computing the msd similarity matrix...\n",
            "Done computing similarity matrix.\n",
            "Computing the msd similarity matrix...\n",
            "Done computing similarity matrix.\n",
            "Computing the msd similarity matrix...\n",
            "Done computing similarity matrix.\n",
            "Computing the msd similarity matrix...\n",
            "Done computing similarity matrix.\n",
            "Computing the msd similarity matrix...\n",
            "Done computing similarity matrix.\n",
            "Computing the cosine similarity matrix...\n",
            "Done computing similarity matrix.\n",
            "Computing the cosine similarity matrix...\n",
            "Done computing similarity matrix.\n",
            "Computing the cosine similarity matrix...\n",
            "Done computing similarity matrix.\n",
            "Computing the cosine similarity matrix...\n",
            "Done computing similarity matrix.\n",
            "Computing the cosine similarity matrix...\n",
            "Done computing similarity matrix.\n",
            "Computing the cosine similarity matrix...\n",
            "Done computing similarity matrix.\n",
            "Computing the msd similarity matrix...\n",
            "Done computing similarity matrix.\n",
            "Computing the msd similarity matrix...\n",
            "Done computing similarity matrix.\n",
            "Computing the msd similarity matrix...\n",
            "Done computing similarity matrix.\n",
            "Computing the msd similarity matrix...\n",
            "Done computing similarity matrix.\n",
            "Computing the msd similarity matrix...\n",
            "Done computing similarity matrix.\n",
            "Computing the msd similarity matrix...\n",
            "Done computing similarity matrix.\n",
            "Computing the cosine similarity matrix...\n",
            "Done computing similarity matrix.\n",
            "Computing the cosine similarity matrix...\n",
            "Done computing similarity matrix.\n",
            "Computing the cosine similarity matrix...\n",
            "Done computing similarity matrix.\n",
            "Computing the cosine similarity matrix...\n",
            "Done computing similarity matrix.\n",
            "Computing the cosine similarity matrix...\n",
            "Done computing similarity matrix.\n",
            "Computing the cosine similarity matrix...\n",
            "Done computing similarity matrix.\n",
            "{'rmse': {'k': 20, 'sim_options': {'name': 'msd', 'min_support': 1, 'user_based': False}}, 'mae': {'k': 20, 'sim_options': {'name': 'msd', 'min_support': 1, 'user_based': False}}}\n",
            "{'rmse': 1.4252452419933623, 'mae': 1.14044101674114}\n"
          ]
        }
      ]
    },
    {
      "cell_type": "code",
      "source": [
        "def get_product_details(product_id):\n",
        "    product_details = ratings[ratings['ProductId'] == product_id]\n",
        "    return product_details\n",
        "\n",
        "for product_id, rating in top_10:\n",
        "    product_details = get_product_details(product_id)\n",
        "    print(f\"Product ID: {product_id}, Rating: {rating}\")"
      ],
      "metadata": {
        "colab": {
          "base_uri": "https://localhost:8080/"
        },
        "id": "BD-t0AuS3IUy",
        "outputId": "2fa2d34e-3c4d-43a6-a178-6fef17b6f218"
      },
      "execution_count": 29,
      "outputs": [
        {
          "output_type": "stream",
          "name": "stdout",
          "text": [
            "Product ID: 0205616461, Rating: 4.14875\n",
            "Product ID: 0558925278, Rating: 4.14875\n",
            "Product ID: 0733001998, Rating: 4.14875\n",
            "Product ID: 0737104473, Rating: 4.14875\n",
            "Product ID: 0762451459, Rating: 4.14875\n",
            "Product ID: 1304139212, Rating: 4.14875\n",
            "Product ID: 1304139220, Rating: 4.14875\n",
            "Product ID: 130414089X, Rating: 4.14875\n",
            "Product ID: 130414643X, Rating: 4.14875\n",
            "Product ID: 1304146537, Rating: 4.14875\n"
          ]
        }
      ]
    }
  ]
}